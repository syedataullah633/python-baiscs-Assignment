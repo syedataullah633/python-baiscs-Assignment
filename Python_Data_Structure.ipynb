{
  "nbformat": 4,
  "nbformat_minor": 0,
  "metadata": {
    "colab": {
      "provenance": []
    },
    "kernelspec": {
      "name": "python3",
      "display_name": "Python 3"
    },
    "language_info": {
      "name": "python"
    }
  },
  "cells": [
    {
      "cell_type": "markdown",
      "source": [
        "#Python - Data Structure Assignment\n",
        "\n",
        "##Data Types and Structures Questions\n",
        "\n",
        "\n",
        "**Q 1. What are data structures, and why are they important?**\n",
        "\n",
        "**Ans**: Data structures are ways of organizing and storing data so that operations like access, insertion, deletion, and modification can be performed efficiently.\n",
        "They are crucial for writing efficient programs and solving complex problems.\n",
        "\n",
        "**Q 2. Explain the difference between mutable and immutable data types with examples.**\n",
        "\n"
      ],
      "metadata": {
        "id": "KQ0LbEtNflMF"
      }
    },
    {
      "cell_type": "code",
      "source": [
        "#- Mutable: Can be changed after creation (e.g., List, Dictionary, Set).\n",
        "my_list = [1, 2, 3]\n",
        "my_list[0] = 4  # Changes list\n",
        "print(my_list)\n",
        "\n",
        "# Immutable: Cannot be changed after creation (e.g., String, Tuple).\n",
        "my_string = \"Hello\"\n",
        "my_string += \" World\"  # Creates new string\n",
        "print(my_string)"
      ],
      "metadata": {
        "id": "bRS4RxdghKqt"
      },
      "execution_count": 1,
      "outputs": []
    },
    {
      "cell_type": "markdown",
      "source": [
        "**Q 3. What are the main differences between lists and tuples in Python?**\n",
        "\n",
        "Mutability is the key difference: Lists are mutable (changeable), while tuples are immutable (unchangeable).  This affects how they're used; lists are for dynamic data, tuples for fixed data.\n",
        "\n",
        "**Q 4. Describe how dictionaries store data.**\n",
        "\n",
        "Dictionaries store data as key-value pairs. Keys must be unique and immutable, while values can be of any type.\n",
        "\n",
        "Example:\n",
        "student = {\"name\": \"John\", \"age\": 21}\n",
        "\n",
        "**Q 5. Why might you use a set instead of a list in Python?**\n",
        "\n",
        "- Sets automatically remove duplicate values.\n",
        "- They offer faster membership testing than lists.\n",
        "\n",
        "**Q 6. What is a string in Python, and how is it different from a list?**\n",
        "\n",
        "- A string is a sequence of characters, immutable.\n",
        "- A list can contain elements of any type and is mutable.\n",
        "\n",
        "**Q 7. How do tuples ensure data integrity in Python?**\n",
        "- Because tuples are immutable, once created, their data cannot be changed, ensuring that critical data remains safe.\n",
        "\n",
        "**Q 8. What is a hash table, and how does it relate to dictionaries in Python?**\n",
        "- A hash table stores data in an associative manner using a hash function to compute an index.\n",
        "Python dictionaries are implemented using hash tables.\n",
        "\n",
        "**Q 9. Can lists contain different data types in Python?**\n",
        "- Yes, a list can contain multiple data types.\n",
        "Example: mixed_list = [1, \"hello\", 3.5, True]\n",
        "\n",
        "**Q 10. Explain why strings are immutable in Python.**\n",
        "- Strings are immutable for efficiency and security reasons. Any operation that modifies a string actually creates a new string.\n",
        "\n",
        "**Q 11. What advantages do dictionaries offer over lists for certain tasks?**\n",
        "- Faster lookups (constant time complexity O(1)).\n",
        "- Better for mapping relationships between data.\n",
        "\n",
        "**Q 12. Describe a scenario where using a tuple would be preferable over a list.**\n",
        "- When you want to ensure data doesn't change, like storing latitude and longitude coordinates.  The immutability of tuples guarantees that these values remain constant throughout the program.\n",
        "\n",
        "**Q 13. How do sets handle duplicate values in Python?**\n",
        "- Sets automatically eliminate duplicate values.\n"
      ],
      "metadata": {
        "id": "sxC7CdVGjdSo"
      }
    },
    {
      "cell_type": "code",
      "source": [
        "s = {1, 2, 2, 3}\n",
        "print(s)  # Output: {1, 2, 3}\n"
      ],
      "metadata": {
        "colab": {
          "base_uri": "https://localhost:8080/"
        },
        "id": "e4NhUfFJqDwG",
        "outputId": "712a0178-6233-4ad6-8760-134dc2330463"
      },
      "execution_count": 3,
      "outputs": [
        {
          "output_type": "stream",
          "name": "stdout",
          "text": [
            "{1, 2, 3}\n"
          ]
        }
      ]
    },
    {
      "cell_type": "markdown",
      "source": [
        "**Q 14. How does the “in” keyword work differently for lists and dictionaries?**\n",
        "- In lists: Checks if an element exists.\n",
        "\n",
        "- In dictionaries: Checks if a key exists (not the value).\n",
        "\n",
        "**Q 15. Can you modify the elements of a tuple? Explain why or why not.**\n",
        "- No, tuples are immutable; once created, their elements cannot be changed.\n",
        "\n",
        "**Q 16. What is a nested dictionary, and give an example of its use case?**\n",
        "- A dictionary inside another dictionary. Example:"
      ],
      "metadata": {
        "id": "_4NRErFrqJsc"
      }
    },
    {
      "cell_type": "code",
      "source": [
        "employee = {\n",
        "    \"name\": \"Alice\",\n",
        "    \"details\": {\"age\": 30, \"position\": \"Manager\"}\n",
        "}"
      ],
      "metadata": {
        "id": "EO22fW9wqqat"
      },
      "execution_count": 6,
      "outputs": []
    },
    {
      "cell_type": "markdown",
      "source": [
        "- Accessing an element by key in a dictionary generally has O(1) time complexity (constant time).\n",
        "\n",
        "**Q 18. In what situations are lists preferred over dictionaries?**\n",
        "- When order matters.\n",
        "\n",
        "- When the relationship between items isn't key-value based.\n",
        "\n",
        "**Q 19. Why are dictionaries considered unordered, and how does that affect data retrieval?**\n",
        "- Dictionaries store elements based on the hash of the key, not in the order they were inserted.\n",
        "\n",
        "- Retrieval is by key, not by position.\n",
        "\n",
        "(Note: As of Python 3.7+, insertion order is preserved, but conceptually they are still accessed by key.)\n",
        "\n",
        "**Q 20. Explain the difference between a list and a dictionary in terms of data retrieval.**\n",
        "- List: Retrieve items by index.\n",
        "\n",
        "- Dictionary: Retrieve items by key."
      ],
      "metadata": {
        "id": "kjU1MQ0Jq9SP"
      }
    },
    {
      "cell_type": "markdown",
      "source": [
        "##Practical Questions\n",
        "\n",
        "**Q 1. Write a code to create a string with your name and print it.**"
      ],
      "metadata": {
        "id": "gQiulPiEsg1j"
      }
    },
    {
      "cell_type": "code",
      "source": [
        "name = \"Rahul\"\n",
        "print(name)"
      ],
      "metadata": {
        "colab": {
          "base_uri": "https://localhost:8080/"
        },
        "id": "dzL5XbxCtE6p",
        "outputId": "fe63a8a0-37ea-4ea6-c2b1-0cba60386169"
      },
      "execution_count": 7,
      "outputs": [
        {
          "output_type": "stream",
          "name": "stdout",
          "text": [
            "Rahul\n"
          ]
        }
      ]
    },
    {
      "cell_type": "markdown",
      "source": [
        "**Q 2. Write a code to find the length of the string \"Hello World\".**\n"
      ],
      "metadata": {
        "id": "FiZpRaGetWZH"
      }
    },
    {
      "cell_type": "code",
      "source": [
        "text = \"Hello World\"\n",
        "print(len(text))"
      ],
      "metadata": {
        "colab": {
          "base_uri": "https://localhost:8080/"
        },
        "id": "4aYmvwR1thO7",
        "outputId": "8f8c50cb-67eb-4f6f-c3dd-e97ba189ae49"
      },
      "execution_count": 8,
      "outputs": [
        {
          "output_type": "stream",
          "name": "stdout",
          "text": [
            "11\n"
          ]
        }
      ]
    },
    {
      "cell_type": "markdown",
      "source": [
        "**Q 3. Write a code to slice the first 3 characters from the string \"Python Programming\".**"
      ],
      "metadata": {
        "id": "DXI-OXXttrCT"
      }
    },
    {
      "cell_type": "code",
      "source": [
        "text = \"Python Programming\"\n",
        "print(text[:3])"
      ],
      "metadata": {
        "colab": {
          "base_uri": "https://localhost:8080/"
        },
        "id": "8rmg8ylOtvhv",
        "outputId": "bab0a1f5-2cf9-40b6-c34b-3a034569016c"
      },
      "execution_count": 9,
      "outputs": [
        {
          "output_type": "stream",
          "name": "stdout",
          "text": [
            "Pyt\n"
          ]
        }
      ]
    },
    {
      "cell_type": "markdown",
      "source": [
        "**Q 4. Write a code to convert the string \"hello\" to uppercase.**"
      ],
      "metadata": {
        "id": "nTwh7UOjt6hK"
      }
    },
    {
      "cell_type": "code",
      "source": [
        "text = \"hello\"\n",
        "print(text.upper())"
      ],
      "metadata": {
        "colab": {
          "base_uri": "https://localhost:8080/"
        },
        "id": "LeMV_4mguBeZ",
        "outputId": "13f56849-c7da-4eda-c995-a352cca8426e"
      },
      "execution_count": 10,
      "outputs": [
        {
          "output_type": "stream",
          "name": "stdout",
          "text": [
            "HELLO\n"
          ]
        }
      ]
    },
    {
      "cell_type": "markdown",
      "source": [
        "**Q 5. Write a code to replace the word \"apple\" with \"orange\" in the string \"I like apple\".**\n"
      ],
      "metadata": {
        "id": "AZY6wIjBuIb0"
      }
    },
    {
      "cell_type": "code",
      "source": [
        "sentence = \"I like apple\"\n",
        "print(sentence.replace(\"apple\", \"orange\"))"
      ],
      "metadata": {
        "colab": {
          "base_uri": "https://localhost:8080/"
        },
        "id": "5qLZmi8tuOlu",
        "outputId": "ced9dcca-bed8-4423-cd26-a9da2faee883"
      },
      "execution_count": 11,
      "outputs": [
        {
          "output_type": "stream",
          "name": "stdout",
          "text": [
            "I like orange\n"
          ]
        }
      ]
    },
    {
      "cell_type": "markdown",
      "source": [
        "**Q 6. Write a code to create a list with numbers 1 to 5 and print it.**"
      ],
      "metadata": {
        "id": "1qAx3gtMuZjE"
      }
    },
    {
      "cell_type": "code",
      "source": [
        "numbers = [1, 2, 3, 4, 5]\n",
        "print(numbers)"
      ],
      "metadata": {
        "colab": {
          "base_uri": "https://localhost:8080/"
        },
        "id": "U9rDbk-Luzbg",
        "outputId": "9febf0e0-a28e-4686-cf93-4273aa6eb630"
      },
      "execution_count": 14,
      "outputs": [
        {
          "output_type": "stream",
          "name": "stdout",
          "text": [
            "[1, 2, 3, 4, 5]\n"
          ]
        }
      ]
    },
    {
      "cell_type": "markdown",
      "source": [
        "**Q 7. Write a code to append the number 10 to the list [1, 2, 3, 4].**\n"
      ],
      "metadata": {
        "id": "rEhvjdZsvCtB"
      }
    },
    {
      "cell_type": "code",
      "source": [
        "lst = [1, 2, 3, 4]\n",
        "lst.append(10)\n",
        "print(lst)"
      ],
      "metadata": {
        "colab": {
          "base_uri": "https://localhost:8080/"
        },
        "id": "7ri3jEyyvHL6",
        "outputId": "fb016c76-d542-4857-d21c-e22b17b0a130"
      },
      "execution_count": 15,
      "outputs": [
        {
          "output_type": "stream",
          "name": "stdout",
          "text": [
            "[1, 2, 3, 4, 10]\n"
          ]
        }
      ]
    },
    {
      "cell_type": "markdown",
      "source": [
        "**Q 8. Write a code to remove the number 3 from the list [1, 2, 3, 4, 5].**"
      ],
      "metadata": {
        "id": "4ImPEpHVvwB7"
      }
    },
    {
      "cell_type": "code",
      "source": [
        "lst = [1, 2, 3, 4, 5]\n",
        "lst.remove(3)\n",
        "print(lst)"
      ],
      "metadata": {
        "colab": {
          "base_uri": "https://localhost:8080/"
        },
        "id": "_gMIvbBav0Gc",
        "outputId": "90bda1d2-6b14-4b5e-8722-c8a2318664ae"
      },
      "execution_count": 16,
      "outputs": [
        {
          "output_type": "stream",
          "name": "stdout",
          "text": [
            "[1, 2, 4, 5]\n"
          ]
        }
      ]
    },
    {
      "cell_type": "markdown",
      "source": [
        "**Q 9. Write a code to access the second element in the list ['a', 'b', 'c', 'd'].**"
      ],
      "metadata": {
        "id": "i4d76d8wv8sI"
      }
    },
    {
      "cell_type": "code",
      "source": [
        "letters = ['a', 'b', 'c', 'd']\n",
        "print(letters[1])"
      ],
      "metadata": {
        "colab": {
          "base_uri": "https://localhost:8080/"
        },
        "id": "p5Vjxkvov-_e",
        "outputId": "abf16f5a-9829-486c-f016-5ae646392ae5"
      },
      "execution_count": 17,
      "outputs": [
        {
          "output_type": "stream",
          "name": "stdout",
          "text": [
            "b\n"
          ]
        }
      ]
    },
    {
      "cell_type": "markdown",
      "source": [
        "**Q 10. Write a code to reverse the list [10, 20, 30, 40, 50].**"
      ],
      "metadata": {
        "id": "gR8ewitqwIvS"
      }
    },
    {
      "cell_type": "code",
      "source": [
        "lst = [10, 20, 30, 40, 50]\n",
        "lst.reverse()\n",
        "print(lst)"
      ],
      "metadata": {
        "colab": {
          "base_uri": "https://localhost:8080/"
        },
        "id": "Q5mfuQcSwKp_",
        "outputId": "d7aa7dae-9951-4520-881b-fa3e4857608e"
      },
      "execution_count": 18,
      "outputs": [
        {
          "output_type": "stream",
          "name": "stdout",
          "text": [
            "[50, 40, 30, 20, 10]\n"
          ]
        }
      ]
    },
    {
      "cell_type": "markdown",
      "source": [
        "**Q 11. Write a code to create a tuple with the elements 100, 200, 300 and print it.**"
      ],
      "metadata": {
        "id": "J6248BcawRam"
      }
    },
    {
      "cell_type": "code",
      "source": [
        "tup = (100, 200, 300)\n",
        "print(tup)"
      ],
      "metadata": {
        "colab": {
          "base_uri": "https://localhost:8080/"
        },
        "id": "9nIzylvqwVHf",
        "outputId": "a4c418c3-67b3-47b4-e473-6f51c2e75af6"
      },
      "execution_count": 19,
      "outputs": [
        {
          "output_type": "stream",
          "name": "stdout",
          "text": [
            "(100, 200, 300)\n"
          ]
        }
      ]
    },
    {
      "cell_type": "markdown",
      "source": [
        "**Q 12. Write a code to access the second-to-last element of the tuple ('red', 'green', 'blue', 'yellow').**"
      ],
      "metadata": {
        "id": "-GHmOrKbwgFo"
      }
    },
    {
      "cell_type": "code",
      "source": [
        "colors = ('red', 'green', 'blue', 'yellow')\n",
        "print(colors[-2])"
      ],
      "metadata": {
        "colab": {
          "base_uri": "https://localhost:8080/"
        },
        "id": "vWz69tBYwjXf",
        "outputId": "ba8b8d33-f2a3-4331-b993-515e93252bc4"
      },
      "execution_count": 24,
      "outputs": [
        {
          "output_type": "stream",
          "name": "stdout",
          "text": [
            "blue\n"
          ]
        }
      ]
    },
    {
      "cell_type": "markdown",
      "source": [
        "**Q 13. Write a code to find the minimum number in the tuple (10, 20, 5, 15).**"
      ],
      "metadata": {
        "id": "Ogi0-u3nw9_I"
      }
    },
    {
      "cell_type": "code",
      "source": [
        "numbers = (10, 20, 5, 15)\n",
        "print(min(numbers))"
      ],
      "metadata": {
        "colab": {
          "base_uri": "https://localhost:8080/"
        },
        "id": "QNDSTF-pxA--",
        "outputId": "8e7b984c-9d34-4a62-f652-3ef0b9a5032d"
      },
      "execution_count": 25,
      "outputs": [
        {
          "output_type": "stream",
          "name": "stdout",
          "text": [
            "5\n"
          ]
        }
      ]
    },
    {
      "cell_type": "markdown",
      "source": [
        "**Q 14. Write a code to find the index of the element \"cat\" in the tuple ('dog', 'cat', 'rabbit').**"
      ],
      "metadata": {
        "id": "gwLJc0naxLxK"
      }
    },
    {
      "cell_type": "code",
      "source": [
        "animals = ('dog', 'cat', 'rabbit')\n",
        "print(animals.index('cat'))"
      ],
      "metadata": {
        "colab": {
          "base_uri": "https://localhost:8080/"
        },
        "id": "uvsG7ZvyxPj9",
        "outputId": "a8c4e442-21f4-4f8d-de55-0bac128e6043"
      },
      "execution_count": 26,
      "outputs": [
        {
          "output_type": "stream",
          "name": "stdout",
          "text": [
            "1\n"
          ]
        }
      ]
    },
    {
      "cell_type": "markdown",
      "source": [
        "**Q 15. Write a code to create a tuple containing three different fruits and check if \"kiwi\" is in it.**"
      ],
      "metadata": {
        "id": "5_PtfQDBxaCM"
      }
    },
    {
      "cell_type": "code",
      "source": [
        "fruits = (\"apple\", \"banana\", \"kiwi\")\n",
        "print(\"kiwi\" in fruits)"
      ],
      "metadata": {
        "colab": {
          "base_uri": "https://localhost:8080/"
        },
        "id": "64hy_jTWxdrb",
        "outputId": "619ffdb9-e6c3-4ead-d25a-cd85b9489719"
      },
      "execution_count": 27,
      "outputs": [
        {
          "output_type": "stream",
          "name": "stdout",
          "text": [
            "True\n"
          ]
        }
      ]
    },
    {
      "cell_type": "markdown",
      "source": [
        "**Q 16. Write a code to create a set with the elements 'a', 'b', 'c' and print it.**"
      ],
      "metadata": {
        "id": "7cY9ESN5xnb-"
      }
    },
    {
      "cell_type": "code",
      "source": [
        "s = {'a', 'b', 'c'}\n",
        "print(s)"
      ],
      "metadata": {
        "colab": {
          "base_uri": "https://localhost:8080/"
        },
        "id": "hQpxl2Klxt8R",
        "outputId": "d0e52945-65e5-4a54-b47e-d785b9d7d92a"
      },
      "execution_count": 28,
      "outputs": [
        {
          "output_type": "stream",
          "name": "stdout",
          "text": [
            "{'c', 'b', 'a'}\n"
          ]
        }
      ]
    },
    {
      "cell_type": "markdown",
      "source": [
        "**Q 17. Write a code to clear all elements from the set {1, 2, 3, 4, 5}.**\n",
        "\n"
      ],
      "metadata": {
        "id": "VbRCJKJMxxps"
      }
    },
    {
      "cell_type": "code",
      "source": [
        "s = {1, 2, 3, 4, 5}\n",
        "s.clear()\n",
        "print(s)"
      ],
      "metadata": {
        "colab": {
          "base_uri": "https://localhost:8080/"
        },
        "id": "8e8-PBgix7ye",
        "outputId": "dd0b5d6c-55f4-475c-8f77-664a9d49467c"
      },
      "execution_count": 29,
      "outputs": [
        {
          "output_type": "stream",
          "name": "stdout",
          "text": [
            "set()\n"
          ]
        }
      ]
    },
    {
      "cell_type": "markdown",
      "source": [
        "**Q 18. Write a code to remove the element 4 from the set {1, 2, 3, 4}.**"
      ],
      "metadata": {
        "id": "8CG0dmTvyZNP"
      }
    },
    {
      "cell_type": "code",
      "source": [
        "s = {1, 2, 3, 4}\n",
        "s.remove(4)\n",
        "print(s)"
      ],
      "metadata": {
        "colab": {
          "base_uri": "https://localhost:8080/"
        },
        "id": "6dO9yR_OyrzL",
        "outputId": "527cb9e6-15bf-46ce-a9c8-d5ee52e634aa"
      },
      "execution_count": 31,
      "outputs": [
        {
          "output_type": "stream",
          "name": "stdout",
          "text": [
            "{1, 2, 3}\n"
          ]
        }
      ]
    },
    {
      "cell_type": "markdown",
      "source": [
        "**Q 19. Write a code to find the union of two sets {1, 2, 3} and {3, 4, 5}.**"
      ],
      "metadata": {
        "id": "R_h4K82dyvt-"
      }
    },
    {
      "cell_type": "code",
      "source": [
        "a = {1, 2, 3}\n",
        "b = {3, 4, 5}\n",
        "print(a.union(b))"
      ],
      "metadata": {
        "colab": {
          "base_uri": "https://localhost:8080/"
        },
        "id": "xCKFmiJFy3Nx",
        "outputId": "380d8d43-2d16-424d-dbda-09c6067eeb0b"
      },
      "execution_count": 32,
      "outputs": [
        {
          "output_type": "stream",
          "name": "stdout",
          "text": [
            "{1, 2, 3, 4, 5}\n"
          ]
        }
      ]
    },
    {
      "cell_type": "markdown",
      "source": [
        "**Q 20. Write a code to find the intersection of two sets {1, 2, 3} and {2, 3, 4}.**"
      ],
      "metadata": {
        "id": "AOtDkQTfy_3R"
      }
    },
    {
      "cell_type": "code",
      "source": [
        "a = {1, 2, 3}\n",
        "b = {2, 3, 4}\n",
        "print(a.intersection(b))"
      ],
      "metadata": {
        "colab": {
          "base_uri": "https://localhost:8080/"
        },
        "id": "GRzRPUYUzFuI",
        "outputId": "7d701e3e-9b20-48ab-e70d-867640fcfdd4"
      },
      "execution_count": 33,
      "outputs": [
        {
          "output_type": "stream",
          "name": "stdout",
          "text": [
            "{2, 3}\n"
          ]
        }
      ]
    },
    {
      "cell_type": "markdown",
      "source": [
        "**Q 21. Write a code to create a dictionary with the keys \"name\", \"age\", and \"city\", and print it.**"
      ],
      "metadata": {
        "id": "u9qN1-TVztuj"
      }
    },
    {
      "cell_type": "code",
      "source": [
        "person = {\"name\": \"John\", \"age\": 25, \"city\": \"New York\"}\n",
        "print(person)"
      ],
      "metadata": {
        "colab": {
          "base_uri": "https://localhost:8080/"
        },
        "id": "2P8Tp6QczxVN",
        "outputId": "f91ec2a1-aeeb-453d-d414-734244935059"
      },
      "execution_count": 34,
      "outputs": [
        {
          "output_type": "stream",
          "name": "stdout",
          "text": [
            "{'name': 'John', 'age': 25, 'city': 'New York'}\n"
          ]
        }
      ]
    },
    {
      "cell_type": "markdown",
      "source": [
        "**Q 22. Write a code to add a new key-value pair \"country\":\"USA\" to the dictionary {'name': 'John', 'age': 25}.**"
      ],
      "metadata": {
        "id": "XprNQ78bz6nl"
      }
    },
    {
      "cell_type": "code",
      "source": [
        "person = {'name': 'John', 'age': 25}\n",
        "person[\"country\"] = \"USA\"\n",
        "print(person)"
      ],
      "metadata": {
        "colab": {
          "base_uri": "https://localhost:8080/"
        },
        "id": "RRIkzSfwz_3J",
        "outputId": "94d03032-a724-4625-ed3b-d16f39442ac1"
      },
      "execution_count": 35,
      "outputs": [
        {
          "output_type": "stream",
          "name": "stdout",
          "text": [
            "{'name': 'John', 'age': 25, 'country': 'USA'}\n"
          ]
        }
      ]
    },
    {
      "cell_type": "markdown",
      "source": [
        "**Q 23. Write a code to access the value associated with the key \"name\" in the dictionary {'name': 'Alice', 'age': 30}.**"
      ],
      "metadata": {
        "id": "p9AaZ2We0NIR"
      }
    },
    {
      "cell_type": "code",
      "source": [
        "person = {'name': 'Alice', 'age': 30}\n",
        "print(person[\"name\"])"
      ],
      "metadata": {
        "colab": {
          "base_uri": "https://localhost:8080/"
        },
        "id": "JD8CI7SR0U5U",
        "outputId": "9bd2131b-5f0f-4dbb-bf2b-492751fe5598"
      },
      "execution_count": 44,
      "outputs": [
        {
          "output_type": "stream",
          "name": "stdout",
          "text": [
            "Alice\n"
          ]
        }
      ]
    },
    {
      "cell_type": "markdown",
      "source": [
        "**Q 24. Write a code to remove the key \"age\" from the dictionary {'name': 'Bob', 'age': 22, 'city': 'New York'}.**"
      ],
      "metadata": {
        "id": "3kJx0s0207tu"
      }
    },
    {
      "cell_type": "code",
      "source": [
        "person = {'name': 'Bob', 'age': 22, 'city': 'New York'}\n",
        "del person['age']\n",
        "print(person)"
      ],
      "metadata": {
        "colab": {
          "base_uri": "https://localhost:8080/"
        },
        "id": "tJWHzCzB0-8i",
        "outputId": "e0d1e0ae-2854-4f61-d74b-75de7cb83176"
      },
      "execution_count": 42,
      "outputs": [
        {
          "output_type": "stream",
          "name": "stdout",
          "text": [
            "{'name': 'Bob', 'city': 'New York'}\n"
          ]
        }
      ]
    },
    {
      "cell_type": "markdown",
      "source": [
        "**Q 25. Write a code to check if the key \"city\" exists in the dictionary {'name': 'Alice', 'city': 'Paris'}.**"
      ],
      "metadata": {
        "id": "vMsD9DEk1UMc"
      }
    },
    {
      "cell_type": "code",
      "source": [
        "person = {'name': 'Alice', 'city': 'Paris'}\n",
        "print('city' in person)"
      ],
      "metadata": {
        "colab": {
          "base_uri": "https://localhost:8080/"
        },
        "id": "wz50CXsQ1Y9S",
        "outputId": "03e80406-80f5-4fcc-cc0c-9bd6d89a2c8d"
      },
      "execution_count": 45,
      "outputs": [
        {
          "output_type": "stream",
          "name": "stdout",
          "text": [
            "True\n"
          ]
        }
      ]
    },
    {
      "cell_type": "markdown",
      "source": [
        "**Q 26. Write a code to create a list, a tuple, and a dictionary, and print them all.**"
      ],
      "metadata": {
        "id": "8UvZMGIa1ji-"
      }
    },
    {
      "cell_type": "code",
      "source": [
        "my_list = [1, 2, 3]\n",
        "my_tuple = (4, 5, 6)\n",
        "my_dict = {'a': 1, 'b': 2}\n",
        "print(my_list)\n",
        "print(my_tuple)\n",
        "print(my_dict)"
      ],
      "metadata": {
        "colab": {
          "base_uri": "https://localhost:8080/"
        },
        "id": "0cGArEYh1mS7",
        "outputId": "bbc3edf6-14ff-496e-a753-38ff457ac0b6"
      },
      "execution_count": 46,
      "outputs": [
        {
          "output_type": "stream",
          "name": "stdout",
          "text": [
            "[1, 2, 3]\n",
            "(4, 5, 6)\n",
            "{'a': 1, 'b': 2}\n"
          ]
        }
      ]
    },
    {
      "cell_type": "markdown",
      "source": [
        "**Q 27. Write a code to create a list of 5 random numbers between 1 and 100, sort it in ascending order, and print the result.**"
      ],
      "metadata": {
        "id": "k9B0rq1y1v0r"
      }
    },
    {
      "cell_type": "code",
      "source": [
        "import random\n",
        "numbers = random.sample(range(1, 101), 5)\n",
        "numbers.sort()\n",
        "print(numbers)"
      ],
      "metadata": {
        "colab": {
          "base_uri": "https://localhost:8080/"
        },
        "id": "DENfQn0z1zJD",
        "outputId": "75a7347b-fd9e-41da-b5fe-d6db98f3edbc"
      },
      "execution_count": 47,
      "outputs": [
        {
          "output_type": "stream",
          "name": "stdout",
          "text": [
            "[13, 29, 34, 42, 75]\n"
          ]
        }
      ]
    },
    {
      "cell_type": "markdown",
      "source": [
        "**Q 28. Write a code to create a list with strings and print the element at the third index.**"
      ],
      "metadata": {
        "id": "omJHXpoG16Nj"
      }
    },
    {
      "cell_type": "code",
      "source": [
        "words = [\"apple\", \"banana\", \"cherry\", \"date\"]\n",
        "print(words[3])"
      ],
      "metadata": {
        "colab": {
          "base_uri": "https://localhost:8080/"
        },
        "id": "sy-UWd4v1-SH",
        "outputId": "285ab4e0-0b69-4f92-e407-018e1f2baea1"
      },
      "execution_count": 50,
      "outputs": [
        {
          "output_type": "stream",
          "name": "stdout",
          "text": [
            "date\n"
          ]
        }
      ]
    },
    {
      "cell_type": "markdown",
      "source": [
        "**Q 29. Write a code to combine two dictionaries into one and print the result.**"
      ],
      "metadata": {
        "id": "RoMqVDVg2Js5"
      }
    },
    {
      "cell_type": "code",
      "source": [
        "dict1 = {'a': 1, 'b': 2}\n",
        "dict2 = {'c': 3, 'd': 4}\n",
        "combined = {**dict1, **dict2}\n",
        "print(combined)"
      ],
      "metadata": {
        "colab": {
          "base_uri": "https://localhost:8080/"
        },
        "id": "nhcmff-C2Mur",
        "outputId": "ae06b8c1-1af9-44c5-f289-fb4258f789c7"
      },
      "execution_count": 51,
      "outputs": [
        {
          "output_type": "stream",
          "name": "stdout",
          "text": [
            "{'a': 1, 'b': 2, 'c': 3, 'd': 4}\n"
          ]
        }
      ]
    },
    {
      "cell_type": "markdown",
      "source": [
        "**Q 30. Write a code to convert a list of strings into a set.**"
      ],
      "metadata": {
        "id": "TuZaP1YW2WRG"
      }
    },
    {
      "cell_type": "code",
      "source": [
        "words = [\"apple\", \"banana\", \"cherry\"]\n",
        "words_set = set(words)\n",
        "print(words_set)"
      ],
      "metadata": {
        "colab": {
          "base_uri": "https://localhost:8080/"
        },
        "id": "W7PajT7Y2ZYg",
        "outputId": "bedab454-c89a-45c2-dab4-2460db02bed9"
      },
      "execution_count": 52,
      "outputs": [
        {
          "output_type": "stream",
          "name": "stdout",
          "text": [
            "{'banana', 'cherry', 'apple'}\n"
          ]
        }
      ]
    }
  ]
}