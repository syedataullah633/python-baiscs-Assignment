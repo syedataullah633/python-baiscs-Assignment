{
  "nbformat": 4,
  "nbformat_minor": 0,
  "metadata": {
    "colab": {
      "provenance": []
    },
    "kernelspec": {
      "name": "python3",
      "display_name": "Python 3"
    },
    "language_info": {
      "name": "python"
    }
  },
  "cells": [
    {
      "cell_type": "markdown",
      "source": [
        "# Python Baiscs **Assignment**"
      ],
      "metadata": {
        "id": "xj8wgUSlkoJx"
      }
    },
    {
      "cell_type": "markdown",
      "source": [
        "**Q1. Explain the key features of Python that make it a popular choice for programming.**\n",
        "\n",
        "Ans:\n",
        "\n",
        "*    **Easy to Learn & Readable**: Python's syntax is clean and resembles English, making it beginner-friendly.\n",
        "*   **Interpreted Language**: Code is executed line by line, simplifying debugging.\n",
        "*   **Dynamically Typed**: No need to declare variable types.\n",
        "*   **Cross-Platform**: Works on Windows, Mac, Linux.\n",
        "*   **Extensive Libraries**: Includes standard libraries and third-party packages (like NumPy, Pandas, etc.).\n",
        "*   **Versatile**: Used in web development, data science, automation, and more.\n",
        "*   **Large Community**: Lots of support, documentation, and community forums."
      ],
      "metadata": {
        "id": "ccgnNEUbj_Uk"
      }
    },
    {
      "cell_type": "markdown",
      "source": [
        "**Q2. Describe the role of predefined keywords in Python and provide examples of how they are used in a program.**\n",
        "\n",
        "Ans:\n",
        "\n",
        "*   Python has reserved keywords that have specific meanings and uses.\n",
        "*   These cannot be used as variable names.\n",
        "\n"
      ],
      "metadata": {
        "id": "w76-3hBNjJnM"
      }
    },
    {
      "cell_type": "code",
      "source": [
        "#Example:\n",
        "if True:\n",
        "    print(\"This is true\")  # 'if' and 'True' are keywords\n",
        "\n",
        "for i in range(3):\n",
        "    print(i)  # 'for' and 'in' are keywords\n",
        "\n",
        "def greet():\n",
        "    pass  # 'def' and 'pass' are keywords\n"
      ],
      "metadata": {
        "colab": {
          "base_uri": "https://localhost:8080/"
        },
        "id": "fU_PjdV_jydO",
        "outputId": "966732f4-8cbe-42a3-fb23-ea8bf161fe78"
      },
      "execution_count": 1,
      "outputs": [
        {
          "output_type": "stream",
          "name": "stdout",
          "text": [
            "This is true\n",
            "0\n",
            "1\n",
            "2\n"
          ]
        }
      ]
    },
    {
      "cell_type": "markdown",
      "source": [
        "**Q3. Compare and contrast mutable and immutable objects in Python with examples.**\n",
        "\n",
        "Ans:\n",
        "\n",
        "*   Mutable objects can be changed after creation.\n",
        "*   Immutable objects cannot be changed once created.\n",
        "\n",
        "Type                Example          Mutable?\n",
        "List               [1, 2, 3]          Yes\n",
        "Dictionary         {\"a\": 1}           Yes\n",
        "String             \"hello\"            No\n",
        "Tuple             (1, 2, 3)           No\n",
        "\n"
      ],
      "metadata": {
        "id": "4jzmiRSfqDiG"
      }
    },
    {
      "cell_type": "code",
      "source": [
        "#examples:\n",
        "\n",
        "# Mutable\n",
        "my_list = [1, 2]\n",
        "my_list.append(3)  # [1, 2, 3]\n",
        "\n",
        "# Immutable\n",
        "my_str = \"hi\"\n",
        "# my_str[0] = 'H'  # This will raise an error\n"
      ],
      "metadata": {
        "id": "JG5q9H_brYI2"
      },
      "execution_count": 6,
      "outputs": []
    },
    {
      "cell_type": "markdown",
      "source": [
        "**Q4. Discuss the different types of operators in Python and provide examples of how they are used.**\n",
        "\n",
        "Ans: Python supports several types of operators:\n"
      ],
      "metadata": {
        "id": "W2SJwDjwr5eS"
      }
    },
    {
      "cell_type": "code",
      "source": [
        "#Arithmetic Operators: +, -, *, /, %, //, **\n",
        "\n",
        "x = 5 + 3  # 8\n",
        "\n",
        "#Comparison Operators: ==, !=, >, <, >=, <=\n",
        "\n",
        "5 > 3  # True\n",
        "\n",
        "#Logical Operators: and, or, not\n",
        "\n",
        "True and False  # False\n",
        "\n",
        "#Assignment Operators: =, +=, -=, etc.\n",
        "\n",
        "a = 10\n",
        "a += 5  # 15\n",
        "\n",
        "#Membership Operators: in, not in\n",
        "\n",
        "'a' in 'apple'  # True\n"
      ],
      "metadata": {
        "colab": {
          "base_uri": "https://localhost:8080/"
        },
        "id": "w1dwy4PVr467",
        "outputId": "1dd9819f-eb82-4506-ed16-66def250fdfd"
      },
      "execution_count": 14,
      "outputs": [
        {
          "output_type": "execute_result",
          "data": {
            "text/plain": [
              "True"
            ]
          },
          "metadata": {},
          "execution_count": 14
        }
      ]
    },
    {
      "cell_type": "markdown",
      "source": [
        "**Q5. Explain the concept of type casting in Python with examples.**\n",
        "\n",
        "Ans: Type casting is converting one data type to another.\n",
        "\n"
      ],
      "metadata": {
        "id": "amAlXyzLuFQZ"
      }
    },
    {
      "cell_type": "code",
      "source": [
        "#Example:\n",
        "#Used when combining different data types or for formatting output.\n",
        "\n",
        "# int to float\n",
        "a = 5\n",
        "b = float(a)  # 5.0\n",
        "\n",
        "# string to int\n",
        "s = \"10\"\n",
        "i = int(s)  # 10\n",
        "\n",
        "# int to string\n",
        "n = 100\n",
        "str_n = str(n)  # \"100\""
      ],
      "metadata": {
        "id": "S03joTwKuTK4"
      },
      "execution_count": 15,
      "outputs": []
    },
    {
      "cell_type": "markdown",
      "source": [
        "**Q6. How do conditional statements work in Python? Illustrate with examples.**\n",
        "\n",
        "Ans: Conditional statements control the flow based on conditions.\n",
        "\n",
        "Syntax\n",
        "if condition:\n",
        "    # block\n",
        "elif another_condition:\n",
        "    # block\n",
        "else:\n",
        "    # block\n"
      ],
      "metadata": {
        "id": "JHmXMctJunji"
      }
    },
    {
      "cell_type": "code",
      "source": [
        "age = 18\n",
        "if age >= 18:\n",
        "    print(\"You are an adult\")\n",
        "else:\n",
        "    print(\"You are a minor\")\n"
      ],
      "metadata": {
        "colab": {
          "base_uri": "https://localhost:8080/"
        },
        "id": "zm4N52Nlu1x9",
        "outputId": "ddb9c5c0-76a9-4fbc-ef78-cc9abf941911"
      },
      "execution_count": 17,
      "outputs": [
        {
          "output_type": "stream",
          "name": "stdout",
          "text": [
            "You are an adult\n"
          ]
        }
      ]
    },
    {
      "cell_type": "markdown",
      "source": [
        "**Q 7. Describe the different types of loops in Python and their use cases with examples.**\n",
        "\n",
        "Ans:\n",
        "\n",
        "Use Cases:\n",
        "*   For loop: When number of iterations is known.\n",
        "*   While loop: When condition-based repetition is needed.\n",
        "\n"
      ],
      "metadata": {
        "id": "UmMyfzoLvl-u"
      }
    },
    {
      "cell_type": "code",
      "source": [
        "#For Loop\n",
        "#Used for iterating over sequences (lists, strings, etc.)\n",
        "\n",
        "for i in range(3):\n",
        "    print(i)  # 0 1 2\n",
        "\n",
        "#While Loop\n",
        "#Repeats as long as the condition is True.\n",
        "\n",
        "count = 0\n",
        "while count < 3:\n",
        "    print(count)\n",
        "    count += 1\n",
        "\n"
      ],
      "metadata": {
        "colab": {
          "base_uri": "https://localhost:8080/"
        },
        "id": "qPLtwYPvvzv_",
        "outputId": "a6b9f119-c90e-4834-b913-b21f934cfa68"
      },
      "execution_count": 20,
      "outputs": [
        {
          "output_type": "stream",
          "name": "stdout",
          "text": [
            "0\n",
            "1\n",
            "2\n",
            "0\n",
            "1\n",
            "2\n"
          ]
        }
      ]
    }
  ]
}